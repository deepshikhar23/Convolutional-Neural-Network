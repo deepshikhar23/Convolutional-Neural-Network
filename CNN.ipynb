{
 "cells": [
  {
   "cell_type": "code",
   "execution_count": 38,
   "id": "c60d3c3e",
   "metadata": {},
   "outputs": [],
   "source": [
    "import tensorflow as tf"
   ]
  },
  {
   "cell_type": "code",
   "execution_count": 39,
   "id": "f8ce0ea8",
   "metadata": {},
   "outputs": [],
   "source": [
    "# Define input image and filter\n",
    "input_image = tf.constant([[[[1.0], [2.0], [3.0], [4.0]],\n",
    "                            [[5.0], [6.0], [7.0], [8.0]],\n",
    "                            [[9.0], [10.0], [11.0], [12.0]],\n",
    "                            [[13.0], [14.0], [15.0], [16.0]]]], dtype=tf.float32)\n",
    "filter_weights = tf.constant([[[[1.0]], [[0.0]]],\n",
    "                              [[[0.0]], [[1.0]]]], dtype=tf.float32)"
   ]
  },
  {
   "cell_type": "code",
   "execution_count": 40,
   "id": "f3bc0a89",
   "metadata": {},
   "outputs": [
    {
     "name": "stdout",
     "output_type": "stream",
     "text": [
      "tf.Tensor(\n",
      "[[[[ 7.]\n",
      "   [ 9.]\n",
      "   [11.]\n",
      "   [ 4.]]\n",
      "\n",
      "  [[15.]\n",
      "   [17.]\n",
      "   [19.]\n",
      "   [ 8.]]\n",
      "\n",
      "  [[23.]\n",
      "   [25.]\n",
      "   [27.]\n",
      "   [12.]]\n",
      "\n",
      "  [[13.]\n",
      "   [14.]\n",
      "   [15.]\n",
      "   [16.]]]], shape=(1, 4, 4, 1), dtype=float32)\n"
     ]
    }
   ],
   "source": [
    "# Apply convolution with padding\n",
    "output_padded = tf.nn.conv2d(input_image, filter_weights, strides=[1, 1, 1, 1], padding='SAME')\n",
    "\n",
    "# Print the padded output\n",
    "print(output_padded)"
   ]
  },
  {
   "cell_type": "code",
   "execution_count": 41,
   "id": "43bd8859",
   "metadata": {},
   "outputs": [
    {
     "name": "stdout",
     "output_type": "stream",
     "text": [
      "tf.Tensor(\n",
      "[[[[ 2.]\n",
      "   [ 0.]\n",
      "   [ 6.]\n",
      "   [ 8.]]\n",
      "\n",
      "  [[10.]\n",
      "   [12.]\n",
      "   [ 0.]\n",
      "   [ 0.]]\n",
      "\n",
      "  [[ 0.]\n",
      "   [ 0.]\n",
      "   [22.]\n",
      "   [24.]]\n",
      "\n",
      "  [[26.]\n",
      "   [28.]\n",
      "   [30.]\n",
      "   [32.]]]], shape=(1, 4, 4, 1), dtype=float32)\n"
     ]
    }
   ],
   "source": [
    "dropout_rate = 0.5\n",
    "\n",
    "# Apply dropout\n",
    "output_dropout = tf.nn.dropout(input_image, rate=dropout_rate)\n",
    "\n",
    "# Print the output with dropout\n",
    "print(output_dropout)"
   ]
  },
  {
   "cell_type": "code",
   "execution_count": 42,
   "id": "783658e3",
   "metadata": {},
   "outputs": [
    {
     "name": "stdout",
     "output_type": "stream",
     "text": [
      "tf.Tensor(\n",
      "[[[[ 1.]\n",
      "   [ 2.]\n",
      "   [ 3.]\n",
      "   [ 4.]]\n",
      "\n",
      "  [[ 5.]\n",
      "   [ 6.]\n",
      "   [ 7.]\n",
      "   [ 8.]]\n",
      "\n",
      "  [[ 9.]\n",
      "   [10.]\n",
      "   [11.]\n",
      "   [12.]]\n",
      "\n",
      "  [[13.]\n",
      "   [14.]\n",
      "   [15.]\n",
      "   [16.]]]], shape=(1, 4, 4, 1), dtype=float32)\n"
     ]
    }
   ],
   "source": [
    "# Apply batch normalization\n",
    "output_normalized = tf.nn.batch_normalization(input_image, mean=0, variance=1, offset=None, scale=None, variance_epsilon=1e-8)\n",
    "\n",
    "# Print the normalized output\n",
    "print(output_normalized)"
   ]
  }
 ],
 "metadata": {
  "kernelspec": {
   "display_name": "Python 3 (ipykernel)",
   "language": "python",
   "name": "python3"
  },
  "language_info": {
   "codemirror_mode": {
    "name": "ipython",
    "version": 3
   },
   "file_extension": ".py",
   "mimetype": "text/x-python",
   "name": "python",
   "nbconvert_exporter": "python",
   "pygments_lexer": "ipython3",
   "version": "3.9.12"
  }
 },
 "nbformat": 4,
 "nbformat_minor": 5
}
